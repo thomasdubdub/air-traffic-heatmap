{
 "cells": [
  {
   "cell_type": "markdown",
   "metadata": {},
   "source": [
    "# Generate air traffic heatmap from so6 files"
   ]
  },
  {
   "cell_type": "code",
   "execution_count": 1,
   "metadata": {},
   "outputs": [],
   "source": [
    "import pandas as pd\n",
    "from datetime import datetime\n",
    "import glob\n",
    "from tqdm import tqdm\n",
    "from ipyleaflet import Map, Heatmap, basemaps, basemap_to_tiles, Marker, MarkerCluster\n",
    "from ipywidgets import Layout\n",
    "from ipywidgets.embed import embed_minimal_html"
   ]
  },
  {
   "cell_type": "code",
   "execution_count": 2,
   "metadata": {},
   "outputs": [],
   "source": [
    "default_zoom = 5\n",
    "default_radius = 10\n",
    "france_barycenter = (46.45, 2.49)"
   ]
  },
  {
   "cell_type": "markdown",
   "metadata": {},
   "source": [
    "#### <br> Generate a pandas dataframe from a so6 file"
   ]
  },
  {
   "cell_type": "code",
   "execution_count": 3,
   "metadata": {},
   "outputs": [],
   "source": [
    "def so6_to_df(path):\n",
    "    columns = ['segment_identifier', 'flight_origin', 'flight_destination', 'aircraft_type', \n",
    "           'time_begin', 'time_end', 'fl_begin', 'fl_end', 'status', 'callsign', \n",
    "           'date_begin', 'date_end', 'lat_begin', 'lon_begin', 'lat_end', 'lon_end',\n",
    "           'flight_identifier', 'sequence', 'length', 'parity']\n",
    "    parser = lambda x,y: pd.datetime.strptime(x + y, '%y%m%d%H%M%S').replace(second=0)\n",
    "\n",
    "    df = pd.read_csv(path, sep=' ', header=None, names=columns, \n",
    "                     parse_dates=[['date_begin','time_begin'],['date_end','time_end']], date_parser=parser)\n",
    "\n",
    "    df.query('length > 0', inplace=True) # filter null segments\n",
    "    df['duration'] = (df['date_end_time_end'] - df['date_begin_time_begin']).dt.total_seconds()\n",
    "    df['alt_begin (m)'] = df['fl_begin'].apply(lambda x: x * 30.48) # FL to meters\n",
    "    df['alt_end (m)'] = df['fl_end'].apply(lambda x: x * 30.48) # FL to meters\n",
    "    lat_lon_cols = ['lat_begin','lon_begin','lat_end','lon_end']\n",
    "    df[lat_lon_cols] = df[lat_lon_cols].apply(lambda x: x / 60)\n",
    "    df = df[['date_begin_time_begin', 'lat_begin', 'lon_begin', 'flight_identifier']]\n",
    "    df.set_index('date_begin_time_begin', inplace=True)\n",
    "    return df"
   ]
  },
  {
   "cell_type": "markdown",
   "metadata": {},
   "source": [
    "#### <br> Merge all tables (so6 files)"
   ]
  },
  {
   "cell_type": "code",
   "execution_count": 4,
   "metadata": {},
   "outputs": [
    {
     "name": "stderr",
     "output_type": "stream",
     "text": [
      "100%|██████████| 1/1 [00:43<00:00, 43.65s/it]"
     ]
    },
    {
     "name": "stdout",
     "output_type": "stream",
     "text": [
      "Table generated with 1524772 lines\n"
     ]
    },
    {
     "name": "stderr",
     "output_type": "stream",
     "text": [
      "\n"
     ]
    }
   ],
   "source": [
    "df_list = []\n",
    "for file in tqdm(glob.glob('so6_files/*.so6')): # your folder with so6 files\n",
    "    df_list.append(so6_to_df(file))\n",
    "t_df = pd.concat(df_list)\n",
    "print('Table generated with {} lines'.format(t_df['flight_identifier'].count()))"
   ]
  },
  {
   "cell_type": "markdown",
   "metadata": {},
   "source": [
    "#### <br> Get points from trajectories after resampling (every minute)"
   ]
  },
  {
   "cell_type": "code",
   "execution_count": 5,
   "metadata": {},
   "outputs": [],
   "source": [
    "locations = []\n",
    "for name, group in t_df.groupby('flight_identifier'):\n",
    "    group = group[~group.index.duplicated(keep='first')] # keep only the first point if several found in the same minute\n",
    "    i_group = group.resample('T').asfreq().interpolate()\n",
    "    locations.extend(list(zip(i_group.lat_begin, i_group.lon_begin)))"
   ]
  },
  {
   "cell_type": "markdown",
   "metadata": {},
   "source": [
    "#### <br> Generate heatmap with ipyleaflet"
   ]
  },
  {
   "cell_type": "code",
   "execution_count": 8,
   "metadata": {},
   "outputs": [],
   "source": [
    "terrain = basemap_to_tiles(basemaps.Stamen.Terrain)\n",
    "m = Map(layers=(terrain, ), center=france_barycenter, zoom=default_zoom, layout=Layout(width='100%', height='600px'))\n",
    "heatmap = Heatmap(locations=locations, radius=default_radius)\n",
    "m.add_layer(heatmap)"
   ]
  },
  {
   "cell_type": "markdown",
   "metadata": {},
   "source": [
    "#### <br> Export the map in HTML"
   ]
  },
  {
   "cell_type": "code",
   "execution_count": 7,
   "metadata": {},
   "outputs": [],
   "source": [
    "embed_minimal_html('heatmap.html', views=[m], title='air traffic heatmap')"
   ]
  }
 ],
 "metadata": {
  "kernelspec": {
   "display_name": "Python [default]",
   "language": "python",
   "name": "python3"
  },
  "language_info": {
   "codemirror_mode": {
    "name": "ipython",
    "version": 3
   },
   "file_extension": ".py",
   "mimetype": "text/x-python",
   "name": "python",
   "nbconvert_exporter": "python",
   "pygments_lexer": "ipython3",
   "version": "3.6.6"
  }
 },
 "nbformat": 4,
 "nbformat_minor": 2
}
